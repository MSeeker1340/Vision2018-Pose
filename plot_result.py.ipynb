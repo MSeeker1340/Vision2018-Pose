{
 "cells": [
  {
   "cell_type": "code",
   "execution_count": 4,
   "metadata": {},
   "outputs": [],
   "source": [
    "import numpy as np\n",
    "import matplotlib.pyplot as pyplot\n",
    "import "
   ]
  },
  {
   "cell_type": "code",
   "execution_count": 5,
   "metadata": {},
   "outputs": [],
   "source": [
    "def plot_result(y, f):\n",
    "    rshape = y.shape\n",
    "    ishape = (224, 224, 3)\n",
    "    result = np.zeroes(ishape)\n",
    "    scale = (ishape[0]/rshape[0], ishape[1]/rshape[1])\n",
    "    for i in range(0, rshape[0]):\n",
    "        for j in range(0, rshape[1]):\n",
    "            result[i*scale[0]][j*scale[1]][0] = y[i][j][f] * 255\n",
    "    pyplot.imshow(result)\n",
    "            "
   ]
  },
  {
   "cell_type": "code",
   "execution_count": 6,
   "metadata": {},
   "outputs": [],
   "source": [
    "def plot_on_img(x, y, f):\n",
    "    rshape = y.shape\n",
    "    ishape = x.shape\n",
    "    result = np.zeroes(ishape)\n",
    "    result[:,:,:] = x\n",
    "    scale = (ishape[0]//rshape[0], ishape[1]//rshape[1])\n",
    "    def mark_point(img, i, j, val):\n",
    "        size = 3\n",
    "        for a in range(max(0, i-size), min(img.shape[0], i+size)):\n",
    "            for b in range(max(0, j-size), min(img.shape[1], j+size)):\n",
    "                img[a][b][0] = val\n",
    "                \n",
    "    for i in range(0, rshape[0]):\n",
    "        for j in range(0, rshape[1]):\n",
    "            mark_point(result, i*scale[0], j*scale[1], y[i][j][f] * 255)\n",
    "    pyplot.imshow(result)"
   ]
  },
  {
   "cell_type": "code",
   "execution_count": null,
   "metadata": {},
   "outputs": [],
   "source": []
  }
 ],
 "metadata": {
  "kernelspec": {
   "display_name": "Python 3",
   "language": "python",
   "name": "python3"
  },
  "language_info": {
   "codemirror_mode": {
    "name": "ipython",
    "version": 3
   },
   "file_extension": ".py",
   "mimetype": "text/x-python",
   "name": "python",
   "nbconvert_exporter": "python",
   "pygments_lexer": "ipython3",
   "version": "3.6.3"
  }
 },
 "nbformat": 4,
 "nbformat_minor": 2
}

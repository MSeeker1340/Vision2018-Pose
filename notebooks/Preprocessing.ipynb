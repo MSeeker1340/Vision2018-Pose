{
 "cells": [
  {
   "cell_type": "code",
   "execution_count": 1,
   "metadata": {},
   "outputs": [
    {
     "name": "stdout",
     "output_type": "stream",
     "text": [
      "/beegfs/xg703/Vision2018-Pose/src\n",
      "/beegfs/xg703/Vision2018-Pose\n"
     ]
    }
   ],
   "source": [
    "%cd /beegfs/xg703/Vision2018-Pose/src\n",
    "import numpy as np\n",
    "from preprocessing import load_data\n",
    "%cd .."
   ]
  },
  {
   "cell_type": "code",
   "execution_count": 2,
   "metadata": {
    "scrolled": false
   },
   "outputs": [
    {
     "name": "stdout",
     "output_type": "stream",
     "text": [
      "loading annotations into memory...\n",
      "Done (t=4.97s)\n",
      "creating index...\n",
      "index created!\n"
     ]
    }
   ],
   "source": [
    "data_dir = '/beegfs/xg703/Vision2018-Pose/dataset/COCO/'\n",
    "data_type = 'train2014'\n",
    "np.random.seed(0)\n",
    "X, Y = load_data(data_dir, data_type, num_input=5000, verbose=False)\n",
    "np.save('dataset/processed/X_train', X)\n",
    "np.save('dataset/processed/Y_train', Y)"
   ]
  },
  {
   "cell_type": "code",
   "execution_count": null,
   "metadata": {},
   "outputs": [],
   "source": []
  }
 ],
 "metadata": {
  "kernelspec": {
   "display_name": "Python 3",
   "language": "python",
   "name": "python3"
  },
  "language_info": {
   "codemirror_mode": {
    "name": "ipython",
    "version": 3
   },
   "file_extension": ".py",
   "mimetype": "text/x-python",
   "name": "python",
   "nbconvert_exporter": "python",
   "pygments_lexer": "ipython3",
   "version": "3.6.6"
  }
 },
 "nbformat": 4,
 "nbformat_minor": 2
}

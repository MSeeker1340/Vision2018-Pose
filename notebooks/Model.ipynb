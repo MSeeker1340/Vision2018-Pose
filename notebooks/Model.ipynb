{
 "cells": [
  {
   "cell_type": "code",
   "execution_count": 1,
   "metadata": {
    "scrolled": true
   },
   "outputs": [
    {
     "name": "stdout",
     "output_type": "stream",
     "text": [
      "/beegfs/xg703/Vision2018-Pose/src\n"
     ]
    }
   ],
   "source": [
    "%cd /beegfs/xg703/Vision2018-Pose/src/\n",
    "import numpy as np\n",
    "import tensorflow as tf\n",
    "from vgg import truncated_vgg19, prestage\n",
    "from model import stage1"
   ]
  },
  {
   "cell_type": "code",
   "execution_count": 2,
   "metadata": {},
   "outputs": [],
   "source": [
    "# truncated_vgg19.summary()"
   ]
  },
  {
   "cell_type": "code",
   "execution_count": 3,
   "metadata": {},
   "outputs": [],
   "source": [
    "# stage1.summary()"
   ]
  },
  {
   "cell_type": "code",
   "execution_count": 5,
   "metadata": {},
   "outputs": [],
   "source": [
    "def describe(X):\n",
    "    print(f\"min(X) = {np.min(X)}\")\n",
    "    print(f\"max(X) = {np.max(X)}\")\n",
    "    print(f\"mean(X) = {np.mean(X)}\")\n",
    "    print(f\"std(X) = {np.std(X)}\")"
   ]
  },
  {
   "cell_type": "code",
   "execution_count": 4,
   "metadata": {},
   "outputs": [],
   "source": [
    "X = np.load(\"../dataset/processed/X_train.npy\")\n",
    "Y = np.load(\"../dataset/processed/Y_train.npy\")\n",
    "# Z = np.load(\"../dataset/processed/Z_train.npy\")"
   ]
  },
  {
   "cell_type": "code",
   "execution_count": 6,
   "metadata": {},
   "outputs": [
    {
     "name": "stdout",
     "output_type": "stream",
     "text": [
      "min(X) = 0.0\n",
      "max(X) = 255.00000000000009\n",
      "mean(X) = 113.23408068573876\n",
      "std(X) = 70.64463875705135\n"
     ]
    }
   ],
   "source": [
    "describe(X)"
   ]
  },
  {
   "cell_type": "code",
   "execution_count": 7,
   "metadata": {},
   "outputs": [],
   "source": [
    "Z = prestage(X) # The intermediate result\n",
    "np.save(\"../dataset/processed/Z_train.npy\", Z)"
   ]
  },
  {
   "cell_type": "code",
   "execution_count": 8,
   "metadata": {},
   "outputs": [
    {
     "name": "stdout",
     "output_type": "stream",
     "text": [
      "min(X) = -123.68\n",
      "max(X) = 151.0610000000001\n",
      "mean(X) = -1.5652526475929982\n",
      "std(X) = 70.58742356127841\n"
     ]
    }
   ],
   "source": [
    "describe(X) # X is altered by vgg19.preprocess_input"
   ]
  },
  {
   "cell_type": "code",
   "execution_count": 9,
   "metadata": {},
   "outputs": [
    {
     "name": "stdout",
     "output_type": "stream",
     "text": [
      "min(X) = 0.0\n",
      "max(X) = 32186.458984375\n",
      "mean(X) = 351.165283203125\n",
      "std(X) = 726.3707885742188\n"
     ]
    }
   ],
   "source": [
    "describe(Z)"
   ]
  },
  {
   "cell_type": "code",
   "execution_count": 10,
   "metadata": {},
   "outputs": [
    {
     "name": "stdout",
     "output_type": "stream",
     "text": [
      "Train on 4000 samples, validate on 1000 samples\n",
      "Epoch 1/5\n",
      "4000/4000 [==============================] - 10s 3ms/step - loss: 1197170610292.2178 - mean_absolute_error: 15025.5391 - val_loss: 0.0832 - val_mean_absolute_error: 0.0104\n",
      "Epoch 2/5\n",
      "4000/4000 [==============================] - 10s 3ms/step - loss: 0.0847 - mean_absolute_error: 0.0102 - val_loss: 0.0832 - val_mean_absolute_error: 0.0102\n",
      "Epoch 3/5\n",
      "4000/4000 [==============================] - 11s 3ms/step - loss: 0.0847 - mean_absolute_error: 0.0102 - val_loss: 0.0832 - val_mean_absolute_error: 0.0099\n",
      "Epoch 4/5\n",
      "4000/4000 [==============================] - 10s 2ms/step - loss: 0.0847 - mean_absolute_error: 0.0102 - val_loss: 0.0832 - val_mean_absolute_error: 0.0102\n",
      "Epoch 5/5\n",
      "4000/4000 [==============================] - 10s 2ms/step - loss: 0.0847 - mean_absolute_error: 0.0102 - val_loss: 0.0832 - val_mean_absolute_error: 0.0103\n"
     ]
    }
   ],
   "source": [
    "history = stage1.fit(Z, Y, epochs=5, validation_split=0.2)"
   ]
  },
  {
   "cell_type": "code",
   "execution_count": null,
   "metadata": {},
   "outputs": [],
   "source": []
  }
 ],
 "metadata": {
  "kernelspec": {
   "display_name": "Python 3",
   "language": "python",
   "name": "python3"
  },
  "language_info": {
   "codemirror_mode": {
    "name": "ipython",
    "version": 3
   },
   "file_extension": ".py",
   "mimetype": "text/x-python",
   "name": "python",
   "nbconvert_exporter": "python",
   "pygments_lexer": "ipython3",
   "version": "3.6.6"
  }
 },
 "nbformat": 4,
 "nbformat_minor": 2
}
